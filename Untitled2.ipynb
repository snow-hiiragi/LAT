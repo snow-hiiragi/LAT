{
 "cells": [
  {
   "cell_type": "code",
   "execution_count": 4,
   "id": "64acc51a",
   "metadata": {},
   "outputs": [
    {
     "name": "stdout",
     "output_type": "stream",
     "text": [
      "     年度 教育階段     人數\n",
      "0    98   大學   7143\n",
      "1    99   大學   6609\n",
      "2   100   大學   5994\n",
      "3   101   大學   6000\n",
      "4   102   大學   5999\n",
      "5   103   大學   5886\n",
      "6   104   大學   6069\n",
      "7   105   大學   6358\n",
      "8   106   大學   6546\n",
      "9   107   大學   7003\n",
      "10  108   大學   7262\n",
      "11  109   大學   7385\n",
      "12  110   大學   6119\n",
      "13   98  研究所  15332\n",
      "14   99  研究所  14613\n",
      "15  100  研究所  13269\n",
      "16  101  研究所  12007\n",
      "17  102  研究所  10860\n",
      "18  103  研究所  10177\n",
      "19  104  研究所   9607\n",
      "20  105  研究所   9164\n",
      "21  106  研究所   8948\n",
      "22  107  研究所   9236\n",
      "23  108  研究所   9348\n",
      "24  109  研究所   9315\n",
      "25  110  研究所   8052\n",
      "26   98  非學位   2146\n",
      "27   99  非學位   1894\n",
      "28  100  非學位   1818\n",
      "29  101  非學位   1866\n",
      "30  102  非學位   1591\n",
      "31  103  非學位   1663\n",
      "32  104  非學位   1695\n",
      "33  105  非學位   1588\n",
      "34  106  非學位   1799\n",
      "35  107  非學位   1719\n",
      "36  108  非學位   1655\n",
      "37  109  非學位   1517\n",
      "38  110  非學位    471\n",
      "39   98  實習生   3444\n",
      "40   99  實習生   3569\n",
      "41  100  實習生   3737\n",
      "42  101  實習生   3377\n",
      "43  102  實習生   3417\n",
      "44  103  實習生   3540\n",
      "45  104  實習生   3622\n",
      "46  105  實習生   4017\n",
      "47  106  實習生   4223\n",
      "48  107  實習生   4496\n",
      "49  108  實習生   5104\n",
      "50  109  實習生   5507\n",
      "51  110  實習生   5031\n"
     ]
    }
   ],
   "source": [
    "import pandas as pd\n",
    "\n",
    "df = pd.read_csv('各年度臺灣學生在美留學人數1110420.csv')\n",
    "\n",
    "print(df) "
   ]
  },
  {
   "cell_type": "code",
   "execution_count": null,
   "id": "740e85af",
   "metadata": {},
   "outputs": [],
   "source": []
  },
  {
   "cell_type": "code",
   "execution_count": null,
   "id": "1575e4ab",
   "metadata": {},
   "outputs": [],
   "source": []
  }
 ],
 "metadata": {
  "kernelspec": {
   "display_name": "Python 3 (ipykernel)",
   "language": "python",
   "name": "python3"
  },
  "language_info": {
   "codemirror_mode": {
    "name": "ipython",
    "version": 3
   },
   "file_extension": ".py",
   "mimetype": "text/x-python",
   "name": "python",
   "nbconvert_exporter": "python",
   "pygments_lexer": "ipython3",
   "version": "3.9.7"
  }
 },
 "nbformat": 4,
 "nbformat_minor": 5
}
