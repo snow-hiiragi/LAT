{
 "cells": [
  {
   "cell_type": "code",
   "execution_count": 1,
   "id": "20c57f8b",
   "metadata": {},
   "outputs": [
    {
     "name": "stdout",
     "output_type": "stream",
     "text": [
      "     年度     美國   加拿大    英國    法國    德國    日本    韓國  澳大利亞  其他國家\n",
      "0  2012  15219   826  3378     0   512  2810   753  3198  2102\n",
      "1  2013  14563  1771  3367   955   787  3140   860  2553  3196\n",
      "2  2014  14135  1109  3826  1064   901  3885  1097  5237  3371\n",
      "3  2015  14547  1271  3408  1100  1252  4703  1067  6651  4167\n",
      "4  2016  14332  2282  3272  1132  1433  5062  1275  6493  4572\n",
      "5  2017  13887  2860  3484  1152  1569  5422  1388  5806  4441\n",
      "6  2018  13000  3170  3686  1250  1620  5589  1558  6454  4763\n",
      "7  2019  12718  3480  3805  1200  1645  5603  2055  6056  4997\n",
      "8  2020   4070  2165  1927   450   629  2185   917  5157  2426\n",
      "9  2021   8314  2250  2995   629   840   240   846  3016  2175\n"
     ]
    }
   ],
   "source": [
    "import pandas as pd\n",
    "\n",
    "df = pd.read_csv('2012-2021簽證統計.csv')\n",
    "\n",
    "print(df) "
   ]
  },
  {
   "cell_type": "code",
   "execution_count": null,
   "id": "41e11006",
   "metadata": {},
   "outputs": [],
   "source": []
  }
 ],
 "metadata": {
  "kernelspec": {
   "display_name": "Python 3 (ipykernel)",
   "language": "python",
   "name": "python3"
  },
  "language_info": {
   "codemirror_mode": {
    "name": "ipython",
    "version": 3
   },
   "file_extension": ".py",
   "mimetype": "text/x-python",
   "name": "python",
   "nbconvert_exporter": "python",
   "pygments_lexer": "ipython3",
   "version": "3.9.7"
  }
 },
 "nbformat": 4,
 "nbformat_minor": 5
}
